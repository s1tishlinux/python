{
 "cells": [
  {
   "cell_type": "markdown",
   "metadata": {},
   "source": [
    "# Stacks in Python\n",
    "\n",
    "This notebook demonstrates the implementation and usage of stacks in Python."
   ]
  },
  {
   "cell_type": "markdown",
   "metadata": {},
   "source": [
    "## 1. Introduction to Stacks\n",
    "\n",
    "A stack is a linear data structure that follows the Last In, First Out (LIFO) principle. The last element added to the stack is the first one to be removed.\n",
    "\n",
    "### Basic Operations:\n",
    "- **push(item)**: Add an item to the top of the stack\n",
    "- **pop()**: Remove and return the top item from the stack\n",
    "- **peek()/top()**: Return the top item without removing it\n",
    "- **isEmpty()**: Check if the stack is empty\n",
    "- **size()**: Return the number of items in the stack"
   ]
  },
  {
   "cell_type": "markdown",
   "metadata": {},
   "source": [
    "## 2. Implementing a Stack Using a List"
   ]
  },
  {
   "cell_type": "code",
   "execution_count": null,
   "metadata": {},
   "source": [
    "class Stack:\n",
    "    \"\"\"Stack implementation using a Python list.\"\"\"\n",
    "    \n",
    "    def __init__(self):\n",
    "        \"\"\"Initialize an empty stack.\"\"\"\n",
    "        self.items = []\n",
    "    \n",
    "    def push(self, item):\n",
    "        \"\"\"Add an item to the top of the stack.\"\"\"\n",
    "        self.items.append(item)\n",
    "    \n",
    "    def pop(self):\n",
    "        \"\"\"Remove and return the top item from the stack.\"\"\"\n",
    "        if self.is_empty():\n",
    "            raise Exception(\"Stack is empty\")\n",
    "        return self.items.pop()\n",
    "    \n",
    "    def peek(self):\n",
    "        \"\"\"Return the top item without removing it.\"\"\"\n",
    "        if self.is_empty():\n",
    "            raise Exception(\"Stack is empty\")\n",
    "        return self.items[-1]\n",
    "    \n",
    "    def is_empty(self):\n",
    "        \"\"\"Check if the stack is empty.\"\"\"\n",
    "        return len(self.items) == 0\n",
    "    \n",
    "    def size(self):\n",
    "        \"\"\"Return the number of items in the stack.\"\"\"\n",
    "        return len(self.items)\n",
    "    \n",
    "    def __str__(self):\n",
    "        \"\"\"Return a string representation of the stack.\"\"\"\n",
    "        return str(self.items)"
   ]
  },
  {
   "cell_type": "markdown",
   "metadata": {},
   "source": [
    "### Testing the Stack Implementation"
   ]
  },
  {
   "cell_type": "code",
   "execution_count": null,
   "metadata": {},
   "source": [
    "# Create a new stack\n",
    "stack = Stack()\n",
    "\n",
    "# Push elements onto the stack\n",
    "stack.push(1)\n",
    "stack.push(2)\n",
    "stack.push(3)\n",
    "stack.push(4)\n",
    "\n",
    "# Display the stack\n",
    "print(f\"Stack: {stack}\")\n",
    "print(f\"Size: {stack.size()}\")\n",
    "print(f\"Top element: {stack.peek()}\")\n",
    "\n",
    "# Pop elements from the stack\n",
    "print(f\"Popped: {stack.pop()}\")\n",
    "print(f\"Popped: {stack.pop()}\")\n",
    "\n",
    "# Display the stack after popping\n",
    "print(f\"Stack after popping: {stack}\")\n",
    "print(f\"Size: {stack.size()}\")"
   ]
  },
  {
   "cell_type": "markdown",
   "metadata": {},
   "source": [
    "## 3. Implementing a Stack Using a Linked List"
   ]
  },
  {
   "cell_type": "code",
   "execution_count": null,
   "metadata": {},
   "source": [
    "class Node:\n",
    "    \"\"\"A node in a linked list.\"\"\"\n",
    "    def __init__(self, data):\n",
    "        self.data = data\n",
    "        self.next = None\n",
    "\n",
    "class LinkedListStack:\n",
    "    \"\"\"Stack implementation using a linked list.\"\"\"\n",
    "    \n",
    "    def __init__(self):\n",
    "        \"\"\"Initialize an empty stack.\"\"\"\n",
    "        self.top = None\n",
    "        self._size = 0\n",
    "    \n",
    "    def push(self, item):\n",
    "        \"\"\"Add an item to the top of the stack.\"\"\"\n",
    "        new_node = Node(item)\n",
    "        new_node.next = self.top\n",
    "        self.top = new_node\n",
    "        self._size += 1\n",
    "    \n",
    "    def pop(self):\n",
    "        \"\"\"Remove and return the top item from the stack.\"\"\"\n",
    "        if self.is_empty():\n",
    "            raise Exception(\"Stack is empty\")\n",
    "        \n",
    "        data = self.top.data\n",
    "        self.top = self.top.next\n",
    "        self._size -= 1\n",
    "        return data\n",
    "    \n",
    "    def peek(self):\n",
    "        \"\"\"Return the top item without removing it.\"\"\"\n",
    "        if self.is_empty():\n",
    "            raise Exception(\"Stack is empty\")\n",
    "        return self.top.data\n",
    "    \n",
    "    def is_empty(self):\n",
    "        \"\"\"Check if the stack is empty.\"\"\"\n",
    "        return self.top is None\n",
    "    \n",
    "    def size(self):\n",
    "        \"\"\"Return the number of items in the stack.\"\"\"\n",
    "        return self._size\n",
    "    \n",
    "    def __str__(self):\n",
    "        \"\"\"Return a string representation of the stack.\"\"\"\n",
    "        if self.is_empty():\n",
    "            return \"[]\"\n",
    "        \n",
    "        result = []\n",
    "        current = self.top\n",
    "        \n",
    "        while current:\n",
    "            result.append(str(current.data))\n",
    "            current = current.next\n",
    "        \n",
    "        return \"[\" + \", \".join(result) + \"] <- Top\""
   ]
  },
  {
   "cell_type": "markdown",
   "metadata": {},
   "source": [
    "### Testing the Linked List Stack"
   ]
  },
  {
   "cell_type": "code",
   "execution_count": null,
   "metadata": {},
   "source": [
    "# Create a new linked list stack\n",
    "ll_stack = LinkedListStack()\n",
    "\n",
    "# Push elements onto the stack\n",
    "ll_stack.push(1)\n",
    "ll_stack.push(2)\n",
    "ll_stack.push(3)\n",
    "ll_stack.push(4)\n",
    "\n",
    "# Display the stack\n",
    "print(f\"Stack: {ll_stack}\")\n",
    "print(f\"Size: {ll_stack.size()}\")\n",
    "print(f\"Top element: {ll_stack.peek()}\")\n",
    "\n",
    "# Pop elements from the stack\n",
    "print(f\"Popped: {ll_stack.pop()}\")\n",
    "print(f\"Popped: {ll_stack.pop()}\")\n",
    "\n",
    "# Display the stack after popping\n",
    "print(f\"Stack after popping: {ll_stack}\")\n",
    "print(f\"Size: {ll_stack.size()}\")"
   ]
  },
  {
   "cell_type": "markdown",
   "metadata": {},
   "source": [
    "## 4. Applications of Stacks"
   ]
  },
  {
   "cell_type": "markdown",
   "metadata": {},
   "source": [
    "### 4.1 Checking Balanced Parentheses"
   ]
  },
  {
   "cell_type": "code",
   "execution_count": null,
   "metadata": {},
   "source": [
    "def is_balanced(expression):\n",
    "    \"\"\"Check if an expression has balanced parentheses.\"\"\"\n",
    "    stack = []\n",
    "    brackets = {')': '(', '}': '{', ']': '['}\n",
    "    \n",
    "    for char in expression:\n",
    "        if char in '({[':\n",
    "            stack.append(char)\n",
    "        elif char in ')}]':\n",
    "            if not stack or stack.pop() != brackets[char]:\n",
    "                return False\n",
    "    \n",
    "    return len(stack) == 0\n",
    "\n",
    "# Test with different expressions\n",
    "expressions = [\"()\", \"()[]{}\", \"(]\", \"([)]\", \"{[]}\", \"\"]\n",
    "\n",
    "for expr in expressions:\n",
    "    print(f\"'{expr}' is {'balanced' if is_balanced(expr) else 'not balanced'}\")"
   ]
  },
  {
   "cell_type": "markdown",
   "metadata": {},
   "source": [
    "### 4.2 Converting Infix to Postfix Expression"
   ]
  },
  {
   "cell_type": "code",
   "execution_count": null,
   "metadata": {},
   "source": [
    "def infix_to_postfix(expression):\n",
    "    \"\"\"Convert an infix expression to postfix notation.\"\"\"\n",
    "    precedence = {'+': 1, '-': 1, '*': 2, '/': 2, '^': 3}\n",
    "    stack = []\n",
    "    postfix = []\n",
    "    \n",
    "    for char in expression:\n",
    "        if char.isalnum():\n",
    "            postfix.append(char)\n",
    "        elif char == '(':\n",
    "            stack.append(char)\n",
    "        elif char == ')':\n",
    "            while stack and stack[-1] != '(':\n",
    "                postfix.append(stack.pop())\n",
    "            if stack and stack[-1] == '(':\n",
    "                stack.pop()  # Remove '('\n",
    "        else:  # Operator\n",
    "            while stack and stack[-1] != '(' and precedence.get(char, 0) <= precedence.get(stack[-1], 0):\n",
    "                postfix.append(stack.pop())\n",
    "            stack.append(char)\n",
    "    \n",
    "    while stack:\n",
    "        postfix.append(stack.pop())\n",
    "    \n",
    "    return ''.join(postfix)\n",
    "\n",
    "# Test with different expressions\n",
    "infix_expressions = [\"A+B\", \"A+B*C\", \"(A+B)*C\", \"A+B*(C-D)\", \"A*B+C*D\", \"A*(B+C*D)\"]\n",
    "\n",
    "for expr in infix_expressions:\n",
    "    postfix = infix_to_postfix(expr)\n",
    "    print(f\"Infix: {expr} -> Postfix: {postfix}\")"
   ]
  },
  {
   "cell_type": "markdown",
   "metadata": {},
   "source": [
    "### 4.3 Evaluating Postfix Expression"
   ]
  },
  {
   "cell_type": "code",
   "execution_count": null,
   "metadata": {},
   "source": [
    "def evaluate_postfix(expression):\n",
    "    \"\"\"Evaluate a postfix expression.\"\"\"\n",
    "    stack = []\n",
    "    \n",
    "    for char in expression:\n",
    "        if char.isdigit():\n",
    "            stack.append(int(char))\n",
    "        else:\n",
    "            if len(stack) < 2:\n",
    "                raise ValueError(\"Invalid postfix expression\")\n",
    "            \n",
    "            b = stack.pop()\n",
    "            a = stack.pop()\n",
    "            \n",
    "            if char == '+':\n",
    "                stack.append(a + b)\n",
    "            elif char == '-':\n",
    "                stack.append(a - b)\n",
    "            elif char == '*':\n",
    "                stack.append(a * b)\n",
    "            elif char == '/':\n",
    "                stack.append(a / b)\n",
    "            elif char == '^':\n",
    "                stack.append(a ** b)\n",
    "    \n",
    "    if len(stack) != 1:\n",
    "        raise ValueError(\"Invalid postfix expression\")\n",
    "    \n",
    "    return stack.pop()\n",
    "\n",
    "# Test with different expressions\n",
    "postfix_expressions = [\"23+\", \"23*5+\", \"23+5*\", \"234*+\"]\n",
    "\n",
    "for expr in postfix_expressions:\n",
    "    try:\n",
    "        result = evaluate_postfix(expr)\n",
    "        print(f\"Postfix: {expr} = {result}\")\n",
    "    except ValueError as e:\n",
    "        print(f\"Error evaluating {expr}: {e}\")"
   ]
  },
  {
   "cell_type": "markdown",
   "metadata": {},
   "source": [
    "## 5. Advanced Stack Applications"
   ]
  },
  {
   "cell_type": "markdown",
   "metadata": {},
   "source": [
    "### 5.1 Implementing a Min Stack"
   ]
  },
  {
   "cell_type": "code",
   "execution_count": null,
   "metadata": {},
   "source": [
    "class MinStack:\n",
    "    \"\"\"Stack that can retrieve minimum element in O(1) time.\"\"\"\n",
    "    \n",
    "    def __init__(self):\n",
    "        self.stack = []\n",
    "        self.min_stack = []\n",
    "    \n",
    "    def push(self, val):\n",
    "        self.stack.append(val)\n",
    "        \n",
    "        # Update min_stack\n",
    "        if not self.min_stack or val <= self.min_stack[-1]:\n",
    "            self.min_stack.append(val)\n",
    "    \n",
    "    def pop(self):\n",
    "        if not self.stack:\n",
    "            return None\n",
    "        \n",
    "        val = self.stack.pop()\n",
    "        \n",
    "        # Update min_stack if we're removing the minimum\n",
    "        if val == self.min_stack[-1]:\n",
    "            self.min_stack.pop()\n",
    "        \n",
    "        return val\n",
    "    \n",
    "    def top(self):\n",
    "        if not self.stack:\n",
    "            return None\n",
    "        return self.stack[-1]\n",
    "    \n",
    "    def get_min(self):\n",
    "        if not self.min_stack:\n",
    "            return None\n",
    "        return self.min_stack[-1]\n",
    "\n",
    "# Test the MinStack\n",
    "min_stack = MinStack()\n",
    "min_stack.push(3)\n",
    "min_stack.push(5)\n",
    "min_stack.push(2)\n",
    "min_stack.push(1)\n",
    "min_stack.push(4)\n",
    "\n",
    "print(f\"Top element: {min_stack.top()}\")\n",
    "print(f\"Minimum element: {min_stack.get_min()}\")\n",
    "\n",
    "min_stack.pop()  # Remove 4\n",
    "print(f\"After popping, minimum element: {min_stack.get_min()}\")\n",
    "\n",
    "min_stack.pop()  # Remove 1\n",
    "print(f\"After popping, minimum element: {min_stack.get_min()}\")"
   ]
  },
  {
   "cell_type": "markdown",
   "metadata": {},
   "source": [
    "### 5.2 Next Greater Element"
   ]
  },
  {
   "cell_type": "code",
   "execution_count": null,
   "metadata": {},
   "source": [
    "def next_greater_element(arr):\n",
    "    \"\"\"Find the next greater element for each element in the array.\"\"\"\n",
    "    n = len(arr)\n",
    "    result = [-1] * n\n",
    "    stack = []\n",
    "    \n",
    "    for i in range(n-1, -1, -1):\n",
    "        while stack and stack[-1] <= arr[i]:\n",
    "            stack.pop()\n",
    "        \n",
    "        if stack:\n",
    "            result[i] = stack[-1]\n",
    "        \n",
    "        stack.append(arr[i])\n",
    "    \n",
    "    return result\n",
    "\n",
    "# Test with different arrays\n",
    "arrays = [[4, 5, 2, 25], [13, 7, 6, 12], [6, 8, 0, 1, 3]]\n",
    "\n",
    "for arr in arrays:\n",
    "    result = next_greater_element(arr)\n",
    "    print(f\"Array: {arr}\")\n",
    "    print(f\"Next greater elements: {result}\")"
   ]
  },
  {
   "cell_type": "markdown",
   "metadata": {},
   "source": [
    "## 6. Exercises\n",
    "\n",
    "1. Implement a function to reverse a string using a stack.\n",
    "2. Implement a function to sort a stack in ascending order (smallest on top).\n",
    "3. Implement a stack using two queues.\n",
    "4. Implement a function to evaluate an infix expression directly.\n",
    "5. Implement a browser history feature using stacks."
   ]
  }
 ],
 "metadata": {
  "kernelspec": {
   "display_name": "Python 3",
   "language": "python",
   "name": "python3"
  },
  "language_info": {
   "codemirror_mode": {
    "name": "ipython",
    "version": 3
   },
   "file_extension": ".py",
   "mimetype": "text/x-python",
   "name": "python",
   "nbconvert_exporter": "python",
   "pygments_lexer": "ipython3",
   "version": "3.8.5"
  }
 },
 "nbformat": 4,
 "nbformat_minor": 4
}