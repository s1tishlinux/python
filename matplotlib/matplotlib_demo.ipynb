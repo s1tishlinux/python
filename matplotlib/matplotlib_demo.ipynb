{
 "cells": [
  {
   "cell_type": "markdown",
   "metadata": {},
   "source": [
    "# Matplotlib Demo\n",
    "\n",
    "This notebook demonstrates the core functionality of Matplotlib, from basic plotting to advanced features."
   ]
  },
  {
   "cell_type": "code",
   "execution_count": null,
   "metadata": {},
   "source": [
    "import matplotlib.pyplot as plt\n",
    "import numpy as np\n",
    "import time\n",
    "from matplotlib.animation import FuncAnimation\n",
    "from mpl_toolkits.mplot3d import Axes3D\n",
    "\n",
    "# Enable inline plotting\n",
    "%matplotlib inline"
   ]
  },
  {
   "cell_type": "markdown",
   "metadata": {},
   "source": [
    "## Basic Line Plot"
   ]
  },
  {
   "cell_type": "code",
   "execution_count": null,
   "metadata": {},
   "source": [
    "# Create data\n",
    "x = np.linspace(0, 10, 100)\n",
    "y = np.sin(x)\n",
    "\n",
    "# Create plot\n",
    "plt.figure(figsize=(10, 6))\n",
    "plt.plot(x, y)\n",
    "plt.title('Sine Wave')\n",
    "plt.xlabel('x')\n",
    "plt.ylabel('sin(x)')\n",
    "plt.grid(True)\n",
    "\n",
    "# Show plot\n",
    "plt.tight_layout()\n",
    "plt.show()"
   ]
  },
  {
   "cell_type": "markdown",
   "metadata": {},
   "source": [
    "## Multiple Lines"
   ]
  },
  {
   "cell_type": "code",
   "execution_count": null,
   "metadata": {},
   "source": [
    "# Create data\n",
    "x = np.linspace(0, 10, 100)\n",
    "\n",
    "# Create plot\n",
    "plt.figure(figsize=(10, 6))\n",
    "plt.plot(x, np.sin(x), label='sin(x)')\n",
    "plt.plot(x, np.cos(x), label='cos(x)')\n",
    "plt.plot(x, np.sin(x+np.pi/4), label='sin(x+π/4)')\n",
    "plt.title('Multiple Sine Waves')\n",
    "plt.xlabel('x')\n",
    "plt.ylabel('y')\n",
    "plt.legend()\n",
    "plt.grid(True)\n",
    "\n",
    "# Show plot\n",
    "plt.tight_layout()\n",
    "plt.show()"
   ]
  },
  {
   "cell_type": "markdown",
   "metadata": {},
   "source": [
    "## Line Styles and Markers"
   ]
  },
  {
   "cell_type": "code",
   "execution_count": null,
   "metadata": {},
   "source": [
    "# Create data\n",
    "x = np.linspace(0, 10, 20)  # Fewer points to see markers better\n",
    "\n",
    "# Create plot\n",
    "plt.figure(figsize=(12, 8))\n",
    "\n",
    "# Different line styles\n",
    "plt.plot(x, np.sin(x), 'r-', linewidth=2, label='Solid red')\n",
    "plt.plot(x, np.sin(x)+0.5, 'g--', linewidth=2, label='Dashed green')\n",
    "plt.plot(x, np.sin(x)+1.0, 'b-.', linewidth=2, label='Dash-dot blue')\n",
    "plt.plot(x, np.sin(x)+1.5, 'k:', linewidth=2, label='Dotted black')\n",
    "\n",
    "# Different markers\n",
    "plt.plot(x, np.sin(x)-0.5, 'co-', linewidth=1, markersize=8, label='Circles')\n",
    "plt.plot(x, np.sin(x)-1.0, 'ms-', linewidth=1, markersize=8, label='Squares')\n",
    "plt.plot(x, np.sin(x)-1.5, 'y^-', linewidth=1, markersize=8, label='Triangles')\n",
    "plt.plot(x, np.sin(x)-2.0, 'gD-', linewidth=1, markersize=8, label='Diamonds')\n",
    "\n",
    "plt.title('Line Styles and Markers')\n",
    "plt.xlabel('x')\n",
    "plt.ylabel('y')\n",
    "plt.legend(loc='center left', bbox_to_anchor=(1, 0.5))\n",
    "plt.grid(True)\n",
    "\n",
    "# Show plot\n",
    "plt.tight_layout()\n",
    "plt.show()"
   ]
  },
  {
   "cell_type": "markdown",
   "metadata": {},
   "source": [
    "## Scatter Plot"
   ]
  },
  {
   "cell_type": "code",
   "execution_count": null,
   "metadata": {},
   "source": [
    "# Create data\n",
    "x = np.random.rand(100)\n",
    "y = np.random.rand(100)\n",
    "colors = np.random.rand(100)\n",
    "sizes = 1000 * np.random.rand(100)\n",
    "\n",
    "# Create plot\n",
    "plt.figure(figsize=(10, 6))\n",
    "scatter = plt.scatter(x, y, c=colors, s=sizes, alpha=0.6, cmap='viridis')\n",
    "plt.colorbar(scatter, label='Color Value')\n",
    "plt.title('Scatter Plot with Color Mapping')\n",
    "plt.xlabel('x')\n",
    "plt.ylabel('y')\n",
    "plt.grid(True, alpha=0.3)\n",
    "\n",
    "# Show plot\n",
    "plt.tight_layout()\n",
    "plt.show()"
   ]
  },
  {
   "cell_type": "markdown",
   "metadata": {},
   "source": [
    "## Bar Chart"
   ]
  },
  {
   "cell_type": "code",
   "execution_count": null,
   "metadata": {},
   "source": [
    "# Create data\n",
    "categories = ['A', 'B', 'C', 'D', 'E']\n",
    "values = [3, 7, 2, 5, 9]\n",
    "\n",
    "# Create plot\n",
    "plt.figure(figsize=(10, 6))\n",
    "plt.bar(categories, values, color='skyblue', edgecolor='navy')\n",
    "plt.title('Simple Bar Chart')\n",
    "plt.xlabel('Categories')\n",
    "plt.ylabel('Values')\n",
    "plt.grid(True, axis='y', alpha=0.3)\n",
    "\n",
    "# Add value labels on top of bars\n",
    "for i, v in enumerate(values):\n",
    "    plt.text(i, v + 0.1, str(v), ha='center')\n",
    "\n",
    "# Show plot\n",
    "plt.tight_layout()\n",
    "plt.show()"
   ]
  },
  {
   "cell_type": "markdown",
   "metadata": {},
   "source": [
    "## Histogram"
   ]
  },
  {
   "cell_type": "code",
   "execution_count": null,
   "metadata": {},
   "source": [
    "# Create data\n",
    "data = np.random.normal(0, 1, 1000)\n",
    "\n",
    "# Create plot\n",
    "plt.figure(figsize=(10, 6))\n",
    "plt.hist(data, bins=30, alpha=0.7, color='skyblue', edgecolor='black')\n",
    "plt.title('Histogram of Normal Distribution')\n",
    "plt.xlabel('Value')\n",
    "plt.ylabel('Frequency')\n",
    "plt.grid(True, alpha=0.3)\n",
    "\n",
    "# Add mean and std lines\n",
    "plt.axvline(data.mean(), color='red', linestyle='dashed', linewidth=1, label=f'Mean: {data.mean():.2f}')\n",
    "plt.axvline(data.mean() + data.std(), color='green', linestyle='dashed', linewidth=1, label=f'Mean + Std: {data.mean() + data.std():.2f}')\n",
    "plt.axvline(data.mean() - data.std(), color='green', linestyle='dashed', linewidth=1, label=f'Mean - Std: {data.mean() - data.std():.2f}')\n",
    "plt.legend()\n",
    "\n",
    "# Show plot\n",
    "plt.tight_layout()\n",
    "plt.show()"
   ]
  },
  {
   "cell_type": "markdown",
   "metadata": {},
   "source": [
    "## Subplots"
   ]
  },
  {
   "cell_type": "code",
   "execution_count": null,
   "metadata": {},
   "source": [
    "# Create data\n",
    "x = np.linspace(0, 10, 100)\n",
    "categories = ['A', 'B', 'C', 'D', 'E']\n",
    "values = [3, 7, 2, 5, 9]\n",
    "\n",
    "# Create figure and subplots\n",
    "fig, axs = plt.subplots(2, 2, figsize=(12, 10))\n",
    "\n",
    "# First subplot - Line plot\n",
    "axs[0, 0].plot(x, np.sin(x))\n",
    "axs[0, 0].set_title('Sine Wave')\n",
    "axs[0, 0].set_xlabel('x')\n",
    "axs[0, 0].set_ylabel('sin(x)')\n",
    "axs[0, 0].grid(True)\n",
    "\n",
    "# Second subplot - Scatter plot\n",
    "axs[0, 1].scatter(x[::5], np.cos(x[::5]), c=x[::5], cmap='plasma')\n",
    "axs[0, 1].set_title('Scatter Plot')\n",
    "axs[0, 1].set_xlabel('x')\n",
    "axs[0, 1].set_ylabel('cos(x)')\n",
    "\n",
    "# Third subplot - Bar chart\n",
    "axs[1, 0].bar(categories, values, color='lightgreen', edgecolor='darkgreen')\n",
    "axs[1, 0].set_title('Bar Chart')\n",
    "axs[1, 0].set_xlabel('Categories')\n",
    "axs[1, 0].set_ylabel('Values')\n",
    "axs[1, 0].grid(True, axis='y', alpha=0.3)\n",
    "\n",
    "# Fourth subplot - Histogram\n",
    "data = np.random.normal(0, 1, 1000)\n",
    "axs[1, 1].hist(data, bins=20, color='lightblue', edgecolor='blue')\n",
    "axs[1, 1].set_title('Histogram')\n",
    "axs[1, 1].set_xlabel('Value')\n",
    "axs[1, 1].set_ylabel('Frequency')\n",
    "axs[1, 1].grid(True, alpha=0.3)\n",
    "\n",
    "# Adjust layout\n",
    "fig.tight_layout()\n",
    "plt.show()"
   ]
  },
  {
   "cell_type": "markdown",
   "metadata": {},
   "source": [
    "## 3D Plot"
   ]
  },
  {
   "cell_type": "code",
   "execution_count": null,
   "metadata": {},
   "source": [
    "# Create data\n",
    "x = np.linspace(-5, 5, 50)\n",
    "y = np.linspace(-5, 5, 50)\n",
    "X, Y = np.meshgrid(x, y)\n",
    "Z = np.sin(np.sqrt(X**2 + Y**2))\n",
    "\n",
    "# Create 3D plot\n",
    "fig = plt.figure(figsize=(10, 8))\n",
    "ax = fig.add_subplot(111, projection='3d')\n",
    "\n",
    "# Plot surface\n",
    "surf = ax.plot_surface(X, Y, Z, cmap='viridis', edgecolor='none')\n",
    "\n",
    "# Add labels and title\n",
    "ax.set_title('3D Surface Plot')\n",
    "ax.set_xlabel('X')\n",
    "ax.set_ylabel('Y')\n",
    "ax.set_zlabel('Z')\n",
    "\n",
    "# Add colorbar\n",
    "fig.colorbar(surf, ax=ax, shrink=0.5, aspect=5)\n",
    "\n",
    "# Show plot\n",
    "plt.tight_layout()\n",
    "plt.show()"
   ]
  },
  {
   "cell_type": "markdown",
   "metadata": {},
   "source": [
    "## Plot Customization"
   ]
  },
  {
   "cell_type": "code",
   "execution_count": null,
   "metadata": {},
   "source": [
    "# Create data\n",
    "x = np.linspace(0, 10, 100)\n",
    "y1 = np.sin(x)\n",
    "y2 = np.cos(x)\n",
    "\n",
    "# Create figure and axis with specific size\n",
    "fig, ax = plt.subplots(figsize=(12, 8))\n",
    "\n",
    "# Plot data with custom styles\n",
    "ax.plot(x, y1, 'b-', linewidth=2, label='sin(x)')\n",
    "ax.plot(x, y2, 'r--', linewidth=2, label='cos(x)')\n",
    "\n",
    "# Set title with custom font size\n",
    "ax.set_title('Customized Plot Example', fontsize=16, fontweight='bold')\n",
    "\n",
    "# Set axis labels with custom font size\n",
    "ax.set_xlabel('x-axis', fontsize=12)\n",
    "ax.set_ylabel('y-axis', fontsize=12)\n",
    "\n",
    "# Set custom axis limits\n",
    "ax.set_xlim(0, 10)\n",
    "ax.set_ylim(-1.5, 1.5)\n",
    "\n",
    "# Add grid with custom style\n",
    "ax.grid(True, linestyle='--', alpha=0.7)\n",
    "\n",
    "# Customize tick marks\n",
    "ax.tick_params(axis='both', which='major', labelsize=10)\n",
    "\n",
    "# Add legend with custom location and style\n",
    "ax.legend(loc='upper right', fontsize=12, frameon=True, facecolor='white', edgecolor='gray')\n",
    "\n",
    "# Add text annotation\n",
    "ax.text(5, 1.2, 'Important Point', fontsize=12, \n",
    "        bbox=dict(facecolor='yellow', alpha=0.5))\n",
    "\n",
    "# Add arrow annotation\n",
    "ax.annotate('Local Maximum', xy=(1.5, 1), xytext=(3, 1.3),\n",
    "            arrowprops=dict(facecolor='black', shrink=0.05, width=1.5))\n",
    "\n",
    "# Customize spines (the box around the plot)\n",
    "ax.spines['top'].set_visible(False)\n",
    "ax.spines['right'].set_visible(False)\n",
    "ax.spines['left'].set_linewidth(1.5)\n",
    "ax.spines['bottom'].set_linewidth(1.5)\n",
    "\n",
    "# Add a horizontal line\n",
    "ax.axhline(y=0, color='k', linestyle='-', alpha=0.3)\n",
    "\n",
    "# Add a vertical line\n",
    "ax.axvline(x=5, color='k', linestyle='-', alpha=0.3)\n",
    "\n",
    "# Add a horizontal span\n",
    "ax.axhspan(0.5, 1, alpha=0.2, color='green')\n",
    "\n",
    "# Add a vertical span\n",
    "ax.axvspan(7, 8, alpha=0.2, color='red')\n",
    "\n",
    "# Show plot\n",
    "plt.tight_layout()\n",
    "plt.show()"
   ]
  }
 ],
 "metadata": {
  "kernelspec": {
   "display_name": "Python 3",
   "language": "python",
   "name": "python3"
  },
  "language_info": {
   "codemirror_mode": {
    "name": "ipython",
    "version": 3
   },
   "file_extension": ".py",
   "mimetype": "text/x-python",
   "name": "python",
   "nbconvert_exporter": "python",
   "pygments_lexer": "ipython3",
   "version": "3.8.5"
  }
 },
 "nbformat": 4,
 "nbformat_minor": 4
}