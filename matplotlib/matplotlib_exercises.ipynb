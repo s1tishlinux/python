{
 "cells": [
  {
   "cell_type": "markdown",
   "metadata": {},
   "source": [
    "# Matplotlib Exercises\n",
    "\n",
    "This notebook contains exercises to practice using Matplotlib. Each exercise includes a problem statement and a solution."
   ]
  },
  {
   "cell_type": "code",
   "execution_count": null,
   "metadata": {},
   "source": [
    "import matplotlib.pyplot as plt\n",
    "import numpy as np\n",
    "\n",
    "# Enable inline plotting\n",
    "%matplotlib inline"
   ]
  },
  {
   "cell_type": "markdown",
   "metadata": {},
   "source": [
    "## Exercise 1: Basic Line Plot\n",
    "\n",
    "Create a line plot of y = x^2 for x values from -10 to 10. Add appropriate title, labels, and grid."
   ]
  },
  {
   "cell_type": "code",
   "execution_count": null,
   "metadata": {},
   "source": [
    "# Your solution here\n"
   ]
  },
  {
   "cell_type": "code",
   "execution_count": null,
   "metadata": {},
   "source": [
    "# Solution\n",
    "x = np.linspace(-10, 10, 100)\n",
    "y = x**2\n",
    "\n",
    "plt.figure(figsize=(10, 6))\n",
    "plt.plot(x, y, 'b-', linewidth=2)\n",
    "plt.title('y = x²')\n",
    "plt.xlabel('x')\n",
    "plt.ylabel('y')\n",
    "plt.grid(True)\n",
    "plt.tight_layout()\n",
    "plt.show()"
   ]
  },
  {
   "cell_type": "markdown",
   "metadata": {},
   "source": [
    "## Exercise 2: Multiple Lines\n",
    "\n",
    "On the same plot, show the following functions:\n",
    "- y = x^2\n",
    "- y = x^3\n",
    "- y = x^4\n",
    "\n",
    "Use different colors and line styles, and add a legend."
   ]
  },
  {
   "cell_type": "code",
   "execution_count": null,
   "metadata": {},
   "source": [
    "# Your solution here\n"
   ]
  },
  {
   "cell_type": "code",
   "execution_count": null,
   "metadata": {},
   "source": [
    "# Solution\n",
    "x = np.linspace(-2, 2, 100)\n",
    "y1 = x**2\n",
    "y2 = x**3\n",
    "y3 = x**4\n",
    "\n",
    "plt.figure(figsize=(10, 6))\n",
    "plt.plot(x, y1, 'b-', linewidth=2, label='y = x²')\n",
    "plt.plot(x, y2, 'r--', linewidth=2, label='y = x³')\n",
    "plt.plot(x, y3, 'g-.', linewidth=2, label='y = x⁴')\n",
    "plt.title('Polynomial Functions')\n",
    "plt.xlabel('x')\n",
    "plt.ylabel('y')\n",
    "plt.legend()\n",
    "plt.grid(True)\n",
    "plt.tight_layout()\n",
    "plt.show()"
   ]
  },
  {
   "cell_type": "markdown",
   "metadata": {},
   "source": [
    "## Exercise 3: Scatter Plot\n",
    "\n",
    "Create a scatter plot of 100 random points. The x and y coordinates should be normally distributed. Color the points based on their distance from the origin."
   ]
  },
  {
   "cell_type": "code",
   "execution_count": null,
   "metadata": {},
   "source": [
    "# Your solution here\n"
   ]
  },
  {
   "cell_type": "code",
   "execution_count": null,
   "metadata": {},
   "source": [
    "# Solution\n",
    "# Generate random data\n",
    "np.random.seed(42)  # For reproducibility\n",
    "x = np.random.normal(0, 1, 100)\n",
    "y = np.random.normal(0, 1, 100)\n",
    "\n",
    "# Calculate distance from origin\n",
    "distance = np.sqrt(x**2 + y**2)\n",
    "\n",
    "plt.figure(figsize=(10, 8))\n",
    "scatter = plt.scatter(x, y, c=distance, cmap='viridis', \n",
    "                     s=100, alpha=0.7)\n",
    "plt.colorbar(scatter, label='Distance from Origin')\n",
    "plt.title('Scatter Plot with Color Mapping')\n",
    "plt.xlabel('X')\n",
    "plt.ylabel('Y')\n",
    "plt.grid(True, alpha=0.3)\n",
    "plt.axis('equal')  # Equal scaling\n",
    "plt.tight_layout()\n",
    "plt.show()"
   ]
  },
  {
   "cell_type": "markdown",
   "metadata": {},
   "source": [
    "## Exercise 4: Bar Chart\n",
    "\n",
    "Create a bar chart showing the following data:\n",
    "- Python: 35%\n",
    "- Java: 25%\n",
    "- JavaScript: 20%\n",
    "- C++: 15%\n",
    "- Other: 5%\n",
    "\n",
    "Add value labels on top of each bar."
   ]
  },
  {
   "cell_type": "code",
   "execution_count": null,
   "metadata": {},
   "source": [
    "# Your solution here\n"
   ]
  },
  {
   "cell_type": "code",
   "execution_count": null,
   "metadata": {},
   "source": [
    "# Solution\n",
    "languages = ['Python', 'Java', 'JavaScript', 'C++', 'Other']\n",
    "percentages = [35, 25, 20, 15, 5]\n",
    "\n",
    "plt.figure(figsize=(10, 6))\n",
    "bars = plt.bar(languages, percentages, color='skyblue', edgecolor='navy')\n",
    "\n",
    "# Add value labels on top of bars\n",
    "for bar in bars:\n",
    "    height = bar.get_height()\n",
    "    plt.text(bar.get_x() + bar.get_width()/2., height + 0.5,\n",
    "            f'{height}%', ha='center', va='bottom')\n",
    "\n",
    "plt.title('Programming Language Popularity')\n",
    "plt.xlabel('Language')\n",
    "plt.ylabel('Percentage (%)')\n",
    "plt.ylim(0, max(percentages) + 5)  # Add some space for labels\n",
    "plt.grid(True, axis='y', alpha=0.3)\n",
    "plt.tight_layout()\n",
    "plt.show()"
   ]
  },
  {
   "cell_type": "markdown",
   "metadata": {},
   "source": [
    "## Exercise 5: Subplots\n",
    "\n",
    "Create a 2x2 grid of subplots showing:\n",
    "1. A line plot of sin(x)\n",
    "2. A scatter plot of random data\n",
    "3. A bar chart\n",
    "4. A histogram"
   ]
  },
  {
   "cell_type": "code",
   "execution_count": null,
   "metadata": {},
   "source": [
    "# Your solution here\n"
   ]
  },
  {
   "cell_type": "code",
   "execution_count": null,
   "metadata": {},
   "source": [
    "# Solution\n",
    "# Create figure and subplots\n",
    "fig, axs = plt.subplots(2, 2, figsize=(12, 10))\n",
    "\n",
    "# 1. Line plot\n",
    "x = np.linspace(0, 10, 100)\n",
    "axs[0, 0].plot(x, np.sin(x), 'b-')\n",
    "axs[0, 0].set_title('Sine Wave')\n",
    "axs[0, 0].set_xlabel('x')\n",
    "axs[0, 0].set_ylabel('sin(x)')\n",
    "axs[0, 0].grid(True)\n",
    "\n",
    "# 2. Scatter plot\n",
    "np.random.seed(42)\n",
    "x_scatter = np.random.rand(50)\n",
    "y_scatter = np.random.rand(50)\n",
    "axs[0, 1].scatter(x_scatter, y_scatter, c=np.random.rand(50), cmap='plasma')\n",
    "axs[0, 1].set_title('Random Scatter')\n",
    "axs[0, 1].set_xlabel('x')\n",
    "axs[0, 1].set_ylabel('y')\n",
    "\n",
    "# 3. Bar chart\n",
    "categories = ['A', 'B', 'C', 'D']\n",
    "values = [3, 7, 2, 5]\n",
    "axs[1, 0].bar(categories, values, color='lightgreen')\n",
    "axs[1, 0].set_title('Bar Chart')\n",
    "axs[1, 0].set_xlabel('Category')\n",
    "axs[1, 0].set_ylabel('Value')\n",
    "\n",
    "# 4. Histogram\n",
    "data = np.random.normal(0, 1, 1000)\n",
    "axs[1, 1].hist(data, bins=30, color='lightblue', edgecolor='blue')\n",
    "axs[1, 1].set_title('Histogram')\n",
    "axs[1, 1].set_xlabel('Value')\n",
    "axs[1, 1].set_ylabel('Frequency')\n",
    "\n",
    "# Adjust layout\n",
    "fig.tight_layout()\n",
    "plt.show()"
   ]
  },
  {
   "cell_type": "markdown",
   "metadata": {},
   "source": [
    "## Exercise 6: 3D Plot\n",
    "\n",
    "Create a 3D surface plot of the function: z = sin(sqrt(x^2 + y^2))"
   ]
  },
  {
   "cell_type": "code",
   "execution_count": null,
   "metadata": {},
   "source": [
    "# Your solution here\n"
   ]
  },
  {
   "cell_type": "code",
   "execution_count": null,
   "metadata": {},
   "source": [
    "# Solution\n",
    "from mpl_toolkits.mplot3d import Axes3D\n",
    "\n",
    "# Create data\n",
    "x = np.linspace(-5, 5, 50)\n",
    "y = np.linspace(-5, 5, 50)\n",
    "X, Y = np.meshgrid(x, y)\n",
    "Z = np.sin(np.sqrt(X**2 + Y**2))\n",
    "\n",
    "# Create 3D plot\n",
    "fig = plt.figure(figsize=(10, 8))\n",
    "ax = fig.add_subplot(111, projection='3d')\n",
    "\n",
    "# Plot surface\n",
    "surf = ax.plot_surface(X, Y, Z, cmap='viridis', edgecolor='none')\n",
    "\n",
    "# Add labels and title\n",
    "ax.set_title('z = sin(sqrt(x^2 + y^2))')\n",
    "ax.set_xlabel('X')\n",
    "ax.set_ylabel('Y')\n",
    "ax.set_zlabel('Z')\n",
    "\n",
    "# Add colorbar\n",
    "fig.colorbar(surf, ax=ax, shrink=0.5, aspect=5)\n",
    "\n",
    "plt.tight_layout()\n",
    "plt.show()"
   ]
  }
 ],
 "metadata": {
  "kernelspec": {
   "display_name": "Python 3",
   "language": "python",
   "name": "python3"
  },
  "language_info": {
   "codemirror_mode": {
    "name": "ipython",
    "version": 3
   },
   "file_extension": ".py",
   "mimetype": "text/x-python",
   "name": "python",
   "nbconvert_exporter": "python",
   "pygments_lexer": "ipython3",
   "version": "3.8.5"
  }
 },
 "nbformat": 4,
 "nbformat_minor": 4
}