{
 "cells": [
  {
   "cell_type": "markdown",
   "metadata": {},
   "source": [
    "# Matplotlib Real-World Examples\n",
    "\n",
    "This notebook demonstrates practical applications of Matplotlib in various domains like data science, finance, and scientific visualization."
   ]
  },
  {
   "cell_type": "code",
   "execution_count": null,
   "metadata": {},
   "source": [
    "import matplotlib.pyplot as plt\n",
    "import numpy as np\n",
    "import pandas as pd\n",
    "from matplotlib.dates import DateFormatter\n",
    "import matplotlib.ticker as ticker\n",
    "from mpl_toolkits.mplot3d import Axes3D\n",
    "\n",
    "# Set a seed for reproducibility\n",
    "np.random.seed(42)\n",
    "\n",
    "# Enable inline plotting\n",
    "%matplotlib inline"
   ]
  },
  {
   "cell_type": "markdown",
   "metadata": {},
   "source": [
    "## Data Science Visualization"
   ]
  },
  {
   "cell_type": "code",
   "execution_count": null,
   "metadata": {},
   "source": [
    "# Create sample data (simulating a dataset)\n",
    "categories = ['Category A', 'Category B', 'Category C', 'Category D']\n",
    "values = [15, 34, 23, 28]\n",
    "\n",
    "# Create a horizontal bar chart\n",
    "fig, ax = plt.subplots(figsize=(10, 6))\n",
    "\n",
    "# Plot horizontal bars\n",
    "bars = ax.barh(categories, values, color='skyblue', edgecolor='navy')\n",
    "\n",
    "# Add data labels\n",
    "for bar in bars:\n",
    "    width = bar.get_width()\n",
    "    ax.text(width + 1, bar.get_y() + bar.get_height()/2, \n",
    "            f'{width}', ha='left', va='center')\n",
    "\n",
    "# Add title and labels\n",
    "ax.set_title('Sample Data Distribution by Category', fontsize=14)\n",
    "ax.set_xlabel('Value', fontsize=12)\n",
    "ax.set_ylabel('Category', fontsize=12)\n",
    "\n",
    "# Remove top and right spines\n",
    "ax.spines['top'].set_visible(False)\n",
    "ax.spines['right'].set_visible(False)\n",
    "\n",
    "# Add grid lines\n",
    "ax.grid(True, axis='x', linestyle='--', alpha=0.7)\n",
    "\n",
    "# Show plot\n",
    "plt.tight_layout()\n",
    "plt.show()"
   ]
  },
  {
   "cell_type": "markdown",
   "metadata": {},
   "source": [
    "## Financial Data Visualization"
   ]
  },
  {
   "cell_type": "code",
   "execution_count": null,
   "metadata": {},
   "source": [
    "# Generate sample stock price data\n",
    "days = 100\n",
    "dates = pd.date_range(start='2023-01-01', periods=days)\n",
    "\n",
    "# Simulate stock prices with random walk\n",
    "price_a = 100 + np.cumsum(np.random.normal(0.1, 1, days))\n",
    "price_b = 80 + np.cumsum(np.random.normal(0.05, 1.2, days))\n",
    "\n",
    "# Create figure and axis\n",
    "fig, ax = plt.subplots(figsize=(12, 6))\n",
    "\n",
    "# Plot stock prices\n",
    "ax.plot(dates, price_a, 'b-', linewidth=1.5, label='Stock A')\n",
    "ax.plot(dates, price_b, 'r-', linewidth=1.5, label='Stock B')\n",
    "\n",
    "# Add title and labels\n",
    "ax.set_title('Stock Price Comparison', fontsize=14)\n",
    "ax.set_xlabel('Date', fontsize=12)\n",
    "ax.set_ylabel('Price ($)', fontsize=12)\n",
    "\n",
    "# Format x-axis date labels\n",
    "date_format = DateFormatter('%Y-%m-%d')\n",
    "ax.xaxis.set_major_formatter(date_format)\n",
    "plt.xticks(rotation=45)\n",
    "\n",
    "# Add grid\n",
    "ax.grid(True, linestyle='--', alpha=0.7)\n",
    "\n",
    "# Add legend\n",
    "ax.legend()\n",
    "\n",
    "# Highlight specific events\n",
    "event_date = dates[50]\n",
    "ax.axvline(x=event_date, color='green', linestyle='--', alpha=0.7)\n",
    "ax.text(event_date, max(price_a.max(), price_b.max()) + 5, \n",
    "        'Market Event', rotation=90, va='top')\n",
    "\n",
    "# Show plot\n",
    "plt.tight_layout()\n",
    "plt.show()"
   ]
  },
  {
   "cell_type": "markdown",
   "metadata": {},
   "source": [
    "## Scientific Visualization"
   ]
  },
  {
   "cell_type": "code",
   "execution_count": null,
   "metadata": {},
   "source": [
    "# Create sample data for a heatmap (e.g., temperature distribution)\n",
    "x = np.linspace(-5, 5, 100)\n",
    "y = np.linspace(-5, 5, 100)\n",
    "X, Y = np.meshgrid(x, y)\n",
    "Z = np.sin(np.sqrt(X**2 + Y**2)) * np.exp(-0.1 * (X**2 + Y**2))\n",
    "\n",
    "# Create figure and axis\n",
    "fig, ax = plt.subplots(figsize=(10, 8))\n",
    "\n",
    "# Create heatmap\n",
    "im = ax.imshow(Z, extent=[-5, 5, -5, 5], origin='lower', \n",
    "              cmap='viridis', aspect='auto')\n",
    "\n",
    "# Add contour lines\n",
    "contours = ax.contour(X, Y, Z, colors='white', alpha=0.5, linewidths=0.5)\n",
    "ax.clabel(contours, inline=True, fontsize=8, fmt='%.1f')\n",
    "\n",
    "# Add colorbar\n",
    "cbar = fig.colorbar(im, ax=ax)\n",
    "cbar.set_label('Value', rotation=270, labelpad=15)\n",
    "\n",
    "# Add title and labels\n",
    "ax.set_title('2D Field Visualization', fontsize=14)\n",
    "ax.set_xlabel('X', fontsize=12)\n",
    "ax.set_ylabel('Y', fontsize=12)\n",
    "\n",
    "# Show plot\n",
    "plt.tight_layout()\n",
    "plt.show()"
   ]
  },
  {
   "cell_type": "markdown",
   "metadata": {},
   "source": [
    "## Geographic Data Visualization"
   ]
  },
  {
   "cell_type": "code",
   "execution_count": null,
   "metadata": {},
   "source": [
    "# Create sample data for cities (longitude, latitude, population)\n",
    "cities = {\n",
    "    'City A': (-74.0, 40.7, 8.4),  # lon, lat, pop (millions)\n",
    "    'City B': (-118.2, 34.0, 3.9),\n",
    "    'City C': (-87.6, 41.8, 2.7),\n",
    "    'City D': (-95.4, 29.8, 2.3),\n",
    "    'City E': (-122.4, 37.8, 0.9)\n",
    "}\n",
    "\n",
    "# Extract data\n",
    "lons = [city[0] for city in cities.values()]\n",
    "lats = [city[1] for city in cities.values()]\n",
    "pops = [city[2] for city in cities.values()]\n",
    "names = list(cities.keys())\n",
    "\n",
    "# Create figure and axis\n",
    "fig, ax = plt.subplots(figsize=(12, 8))\n",
    "\n",
    "# Create scatter plot\n",
    "scatter = ax.scatter(lons, lats, s=[p*50 for p in pops], \n",
    "                    c=pops, cmap='YlOrRd', alpha=0.7)\n",
    "\n",
    "# Add city labels\n",
    "for i, name in enumerate(names):\n",
    "    ax.annotate(name, (lons[i], lats[i]), \n",
    "               xytext=(5, 5), textcoords='offset points')\n",
    "\n",
    "# Add colorbar\n",
    "cbar = fig.colorbar(scatter)\n",
    "cbar.set_label('Population (millions)')\n",
    "\n",
    "# Add title and labels\n",
    "ax.set_title('City Population Distribution', fontsize=14)\n",
    "ax.set_xlabel('Longitude', fontsize=12)\n",
    "ax.set_ylabel('Latitude', fontsize=12)\n",
    "\n",
    "# Set aspect ratio to be equal\n",
    "ax.set_aspect('equal')\n",
    "\n",
    "# Add grid\n",
    "ax.grid(True, linestyle='--', alpha=0.7)\n",
    "\n",
    "# Show plot\n",
    "plt.tight_layout()\n",
    "plt.show()"
   ]
  },
  {
   "cell_type": "markdown",
   "metadata": {},
   "source": [
    "## Time Series Analysis Visualization"
   ]
  },
  {
   "cell_type": "code",
   "execution_count": null,
   "metadata": {},
   "source": [
    "# Generate sample time series data\n",
    "days = 365\n",
    "dates = pd.date_range(start='2023-01-01', periods=days)\n",
    "\n",
    "# Create seasonal data with trend and noise\n",
    "t = np.arange(days)\n",
    "trend = 0.05 * t\n",
    "seasonal = 10 * np.sin(2 * np.pi * t / 365)\n",
    "noise = np.random.normal(0, 1, days)\n",
    "data = trend + seasonal + noise\n",
    "\n",
    "# Create figure with subplots\n",
    "fig, (ax1, ax2) = plt.subplots(2, 1, figsize=(12, 10), sharex=True)\n",
    "\n",
    "# Plot original time series\n",
    "ax1.plot(dates, data, 'b-', linewidth=1, alpha=0.7)\n",
    "ax1.set_title('Time Series Data', fontsize=14)\n",
    "ax1.set_ylabel('Value', fontsize=12)\n",
    "ax1.grid(True, linestyle='--', alpha=0.7)\n",
    "\n",
    "# Calculate and plot moving average\n",
    "window_size = 30\n",
    "moving_avg = np.convolve(data, np.ones(window_size)/window_size, mode='valid')\n",
    "ma_dates = dates[window_size-1:]\n",
    "\n",
    "ax2.plot(dates, data, 'b-', linewidth=1, alpha=0.3, label='Original')\n",
    "ax2.plot(ma_dates, moving_avg, 'r-', linewidth=2, label=f'{window_size}-Day Moving Average')\n",
    "ax2.set_title('Time Series with Moving Average', fontsize=14)\n",
    "ax2.set_xlabel('Date', fontsize=12)\n",
    "ax2.set_ylabel('Value', fontsize=12)\n",
    "ax2.grid(True, linestyle='--', alpha=0.7)\n",
    "ax2.legend()\n",
    "\n",
    "# Format x-axis date labels\n",
    "date_format = DateFormatter('%Y-%m-%d')\n",
    "ax2.xaxis.set_major_formatter(date_format)\n",
    "plt.xticks(rotation=45)\n",
    "\n",
    "# Show plot\n",
    "plt.tight_layout()\n",
    "plt.show()"
   ]
  }
 ],
 "metadata": {
  "kernelspec": {
   "display_name": "Python 3",
   "language": "python",
   "name": "python3"
  },
  "language_info": {
   "codemirror_mode": {
    "name": "ipython",
    "version": 3
   },
   "file_extension": ".py",
   "mimetype": "text/x-python",
   "name": "python",
   "nbconvert_exporter": "python",
   "pygments_lexer": "ipython3",
   "version": "3.8.5"
  }
 },
 "nbformat": 4,
 "nbformat_minor": 4
}